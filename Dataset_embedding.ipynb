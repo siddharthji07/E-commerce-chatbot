{
  "cells": [
    {
      "cell_type": "markdown",
      "metadata": {
        "id": "hCD9A_J8D8uS"
      },
      "source": [
        "Install the requirements"
      ]
    },
    {
      "cell_type": "code",
      "execution_count": null,
      "metadata": {
        "colab": {
          "base_uri": "https://localhost:8080/"
        },
        "id": "WbQ6y8LXzs7H",
        "outputId": "995c23c5-807b-4fa5-9dee-74fe52a914dc"
      },
      "outputs": [],
      "source": [
        "!pip install pandas\n",
        "!pip install --upgrade langchain openai -q\n",
        "!pip install unstructured -q\n",
        "!pip install unstructured[local-inference] -q\n",
        "!pip install pinecone-client==2.2.4\n",
        "!pip install openai==0.28\n",
        "!pip install tiktoken -q\n",
        "!pip install python-dotenv\n",
        "!apt-get install poppler-utils\n"
      ]
    },
    {
      "cell_type": "markdown",
      "metadata": {
        "id": "LvquSt_5EAeZ"
      },
      "source": [
        "Import the libraries"
      ]
    },
    {
      "cell_type": "code",
      "execution_count": null,
      "metadata": {
        "colab": {
          "base_uri": "https://localhost:8080/"
        },
        "id": "BnlMINzBz2RU",
        "outputId": "c171b81d-eba6-4edd-d19e-59e36b907d39"
      },
      "outputs": [],
      "source": [
        "import numpy as np\n",
        "import csv\n",
        "import pandas as pd\n",
        "from pandas import Series, DataFrame\n",
        "import os\n",
        "import openai\n",
        "import pinecone\n",
        "from langchain.document_loaders import DirectoryLoader\n",
        "from langchain.text_splitter import RecursiveCharacterTextSplitter\n",
        "from langchain.embeddings.openai import OpenAIEmbeddings\n",
        "from langchain.vectorstores import Pinecone\n",
        "from langchain.llms import OpenAI\n",
        "from langchain.chains.question_answering import load_qa_chain\n",
        "from dotenv import load_dotenv\n"
      ]
    },
    {
      "cell_type": "markdown",
      "metadata": {
        "id": "SbZQfMx-EDKR"
      },
      "source": [
        "Sample data set for Hackathon purpose"
      ]
    },
    {
      "cell_type": "code",
      "execution_count": null,
      "metadata": {
        "id": "HBzI8gGez5Y_"
      },
      "outputs": [],
      "source": [
        "filename = '/content/ajiofashion.csv'\n",
        "df = pd.read_csv(filename)\n",
        "sampled_df = df.sample(frac=0.0035)\n",
        "sampled_df.to_csv('/content/data/meta.csv', index=False)"
      ]
    },
    {
      "cell_type": "markdown",
      "metadata": {
        "id": "x8-mCsYvET7I"
      },
      "source": [
        "JSON data (unstructured) fetched through API and the converted to CSV (structured) to embed into vector database"
      ]
    },
    {
      "cell_type": "code",
      "execution_count": null,
      "metadata": {
        "id": "_R64f76HB1C6"
      },
      "outputs": [],
      "source": [
        "#import pandas as pd\n",
        "#import requests\n",
        "#response=requests.get(\"https://dummyjson.com/products?skip=0&limit=100\")\n",
        "#df=pd.DataFrame(response.json()['products'])[['title','description','price','brand','category','images']]\n",
        "#df.to_csv('/content/data/product.csv')"
      ]
    },
    {
      "cell_type": "markdown",
      "metadata": {
        "id": "uV1a_mNeEqRQ"
      },
      "source": [
        "Load the Documents in loader"
      ]
    },
    {
      "cell_type": "code",
      "execution_count": null,
      "metadata": {
        "colab": {
          "base_uri": "https://localhost:8080/"
        },
        "id": "TCRRT0NoAVJG",
        "outputId": "53f32541-d842-4319-952d-11b0ceea49a3"
      },
      "outputs": [],
      "source": [
        "directory = '/content/data'\n",
        "\n",
        "def load_docs(directory):\n",
        "  loader = DirectoryLoader(directory)\n",
        "  documents = loader.load()\n",
        "  return documents\n",
        "\n",
        "documents = load_docs(directory)\n",
        "len(documents)"
      ]
    },
    {
      "cell_type": "markdown",
      "metadata": {
        "id": "L5159rA9E3iX"
      },
      "source": [
        "Split the documents into chunks"
      ]
    },
    {
      "cell_type": "code",
      "execution_count": null,
      "metadata": {
        "colab": {
          "base_uri": "https://localhost:8080/"
        },
        "id": "OjMwiXrx2f50",
        "outputId": "4ddb8a12-4bd2-4a7b-cfe9-38b88125e35a"
      },
      "outputs": [],
      "source": [
        "def split_docs(documents, chunk_size=1000, chunk_overlap=100):\n",
        "  text_splitter = RecursiveCharacterTextSplitter(chunk_size=chunk_size, chunk_overlap=chunk_overlap)\n",
        "  docs = text_splitter.split_documents(documents)\n",
        "  return docs\n",
        "\n",
        "docs = split_docs(documents)\n",
        "print(len(docs))"
      ]
    },
    {
      "cell_type": "markdown",
      "metadata": {
        "id": "brcC4Ls0E8_f"
      },
      "source": [
        "Embed the data chunks by tokenizing it and embedding into vector database"
      ]
    },
    {
      "cell_type": "code",
      "execution_count": null,
      "metadata": {
        "id": "5sKZO_4hCTck"
      },
      "outputs": [],
      "source": [
        "load_dotenv()\n",
        "embeddings = OpenAIEmbeddings()\n",
        "pinecone.init(\n",
        "    api_key=os.environ[\"PINECONE_API_KEY\"],\n",
        "    environment=os.environ[\"ENVIRONMENT\"]\n",
        ")\n",
        "index_name = os.environ[\"INDEX_NAME\"]\n",
        "text=[docs]\n",
        "index = Pinecone.from_documents(docs, embeddings, index_name=index_name)"
      ]
    }
  ],
  "metadata": {
    "colab": {
      "history_visible": true,
      "provenance": []
    },
    "kernelspec": {
      "display_name": "Python 3",
      "name": "python3"
    },
    "language_info": {
      "name": "python"
    }
  },
  "nbformat": 4,
  "nbformat_minor": 0
}
